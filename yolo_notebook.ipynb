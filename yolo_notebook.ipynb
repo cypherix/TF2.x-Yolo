{
 "cells": [
  {
   "cell_type": "code",
   "execution_count": 45,
   "metadata": {},
   "outputs": [],
   "source": [
    "import tensorflow as tf\n",
    "from tensorflow.keras.layers import (\n",
    "    Add,\n",
    "    Input,\n",
    "    Conv2D,\n",
    "    MaxPool2D,\n",
    "    LeakyReLU,\n",
    "    Concatenate,\n",
    "    UpSampling2D,\n",
    "    ZeroPadding2D,\n",
    "    BatchNormalization)\n",
    "from tensorflow.keras import Model\n",
    "from tensorflow.keras.regularizers import l2"
   ]
  },
  {
   "cell_type": "markdown",
   "metadata": {},
   "source": [
    "### Backbone of YoloV3"
   ]
  },
  {
   "cell_type": "code",
   "execution_count": 30,
   "metadata": {},
   "outputs": [],
   "source": [
    "class BatchNormalization(BatchNormalization):\n",
    "    \n",
    "    def call(self, x, training=False):\n",
    "        if not training:\n",
    "            training = tf.constant(False)\n",
    "        training = tf.logical_and(training, self.trainable)\n",
    "        return super().call(x, training)\n",
    "\n",
    "def DarknetConv(x, filters, size, downsample=False, activate=True, bn=True):\n",
    "\n",
    "    if downsample:\n",
    "        x = ZeroPadding2D(((1, 0), (1, 0)))(x)\n",
    "        padding = 'valid'\n",
    "        strides = 2\n",
    "    else:\n",
    "        padding = 'same'\n",
    "        strides = 1\n",
    "    \n",
    "    x = Conv2D(filters=filters, kernel_size=size,\n",
    "               strides=strides, padding=padding, use_bias=not bn,\n",
    "               kernel_regularizer=l2(0.0005),\n",
    "               kernel_initializer=tf.random_normal_initializer(stddev=0.01),\n",
    "               bias_initializer=tf.constant_initializer(0.))(x)\n",
    "    \n",
    "    if bn:\n",
    "        x = BatchNormalization()(x)\n",
    "    if activate:\n",
    "        x = LeakyReLU(alpha=0.1)(x)\n",
    "    \n",
    "    return x\n",
    "\n",
    "def DarknetResidual(x, filters):\n",
    "    \n",
    "    short_cut = x\n",
    "    x = DarknetConv(x, filters=filters//2, size=1)\n",
    "    x = DarknetConv(x, filters=filters, size=3)\n",
    "    x = Add()([short_cut, x])\n",
    "    \n",
    "    return x\n",
    "\n",
    "\n",
    "def DarknetBlock(x, filters, blocks):\n",
    "    x = DarknetConv(x, filters=filters, size=3, downsample=True)\n",
    "    for _ in range(blocks):\n",
    "        x = DarknetResidual(x, filters)\n",
    "    \n",
    "    return x\n",
    "\n",
    "def Darknet(name=None):\n",
    "\n",
    "    x = inputs = Input([None, None, 3])\n",
    "    x = DarknetConv(x, filters=32, size=3)\n",
    "    x = DarknetBlock(x, 64, 2)\n",
    "    x = DarknetBlock(x, 128, 2)\n",
    "    x = x_36 = DarknetBlock(x, 256, 8)\n",
    "    x = x_61 = DarknetBlock(x, 512, 8)\n",
    "    x = DarknetBlock(x, 1024, 4)\n",
    "    \n",
    "    return Model(inputs, (x_36, x_61, x), name=name)"
   ]
  },
  {
   "cell_type": "markdown",
   "metadata": {},
   "source": [
    "### YoloV3 model"
   ]
  },
  {
   "cell_type": "code",
   "execution_count": 35,
   "metadata": {},
   "outputs": [],
   "source": [
    "def YoloConv(filters, name=None):\n",
    "    def yolo_conv(x_in):\n",
    "        if isinstance(x_in, tuple):\n",
    "            inputs = Input(x_in[0].shape[1:]), Input(x_in[1].shape[1:])\n",
    "            x, x_skip = inputs\n",
    "\n",
    "            # concat with skip connection\n",
    "            x = DarknetConv(x, filters, 1)\n",
    "            x = UpSampling2D(2)(x)\n",
    "            x = Concatenate()([x, x_skip])\n",
    "        else:\n",
    "            x = inputs = Input(x_in.shape[1:])\n",
    "\n",
    "        x = DarknetConv(x, filters, 1)\n",
    "        x = DarknetConv(x, filters * 2, 3)\n",
    "        x = DarknetConv(x, filters, 1)\n",
    "        x = DarknetConv(x, filters * 2, 3)\n",
    "        x = DarknetConv(x, filters, 1)\n",
    "        return Model(inputs, x, name=name)(x_in)\n",
    "    return yolo_conv"
   ]
  },
  {
   "cell_type": "code",
   "execution_count": 43,
   "metadata": {},
   "outputs": [],
   "source": [
    "def YoloV3(size=None, classes=80):\n",
    "    x = inputs = Input([size, size, 3], name='input')\n",
    "    \n",
    "    x_36, x_61, x = Darknet(name='yolo_darknet')(x)\n",
    "    \n",
    "    x = YoloConv(512, name='yolo_conv_0')(x)\n",
    "    l_output = DarknetConv(x, filters=3*(classes + 5), size=1, activate=False, bn=False)\n",
    "    \n",
    "\n",
    "    x = YoloConv(256, name='yolo_conv_1')((x, x_61))\n",
    "    m_output = DarknetConv(x, filters=3*(classes + 5), size=1, activate=False, bn=False)\n",
    "\n",
    "    x = YoloConv(128, name='yolo_conv_2')((x, x_36))\n",
    "    s_output = DarknetConv(x, filters=3*(classes + 5), size=1, activate=False, bn=False)\n",
    "    \n",
    "    return [l_output, m_output, s_output]"
   ]
  },
  {
   "cell_type": "code",
   "execution_count": 47,
   "metadata": {},
   "outputs": [],
   "source": [
    "m = YoloV3(416)"
   ]
  },
  {
   "cell_type": "code",
   "execution_count": 48,
   "metadata": {},
   "outputs": [
    {
     "data": {
      "text/plain": [
       "[<tf.Tensor 'conv2d_588/Identity:0' shape=(None, 13, 13, 255) dtype=float32>,\n",
       " <tf.Tensor 'conv2d_595/Identity:0' shape=(None, 26, 26, 255) dtype=float32>,\n",
       " <tf.Tensor 'conv2d_602/Identity:0' shape=(None, 52, 52, 255) dtype=float32>]"
      ]
     },
     "execution_count": 48,
     "metadata": {},
     "output_type": "execute_result"
    }
   ],
   "source": [
    "m"
   ]
  },
  {
   "cell_type": "code",
   "execution_count": null,
   "metadata": {},
   "outputs": [],
   "source": []
  }
 ],
 "metadata": {
  "kernelspec": {
   "display_name": "Python 3",
   "language": "python",
   "name": "python3"
  },
  "language_info": {
   "codemirror_mode": {
    "name": "ipython",
    "version": 3
   },
   "file_extension": ".py",
   "mimetype": "text/x-python",
   "name": "python",
   "nbconvert_exporter": "python",
   "pygments_lexer": "ipython3",
   "version": "3.6.10"
  }
 },
 "nbformat": 4,
 "nbformat_minor": 4
}
